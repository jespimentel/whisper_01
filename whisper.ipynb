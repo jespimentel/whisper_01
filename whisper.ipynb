{
  "nbformat": 4,
  "nbformat_minor": 0,
  "metadata": {
    "colab": {
      "provenance": [],
      "gpuType": "T4",
      "authorship_tag": "ABX9TyNsdvdHImO1rZnzeqd1L+PG",
      "include_colab_link": true
    },
    "kernelspec": {
      "name": "python3",
      "display_name": "Python 3"
    },
    "language_info": {
      "name": "python"
    },
    "accelerator": "GPU"
  },
  "cells": [
    {
      "cell_type": "markdown",
      "metadata": {
        "id": "view-in-github",
        "colab_type": "text"
      },
      "source": [
        "<a href=\"https://colab.research.google.com/github/jespimentel/whisper_01/blob/main/whisper.ipynb\" target=\"_parent\"><img src=\"https://colab.research.google.com/assets/colab-badge.svg\" alt=\"Open In Colab\"/></a>"
      ]
    },
    {
      "cell_type": "markdown",
      "source": [
        "# Solução para transcrição de audiências judiciais com Whisper\n",
        "### Adaptado de https://github.com/openai/whisper por J. E. S. Pimentel\n",
        "----\n",
        "\n",
        "O Whisper é um modelo de IA de reconhecimento de fala multilíngue da OpenAI. É de código aberto e suporta diversos formatos de entrada, inclusive o \"asf\", adotado pelo SAJ/eSAJ.\n",
        "\n",
        "O código combina a praticidade do ambiente Colab, Python e a biblioteca ffmpeg com o modelo de IA para transcrever as audiências judiciais e gravar a saída em arquivo \"txt\"."
      ],
      "metadata": {
        "id": "y66e4wHerGh2"
      }
    },
    {
      "cell_type": "markdown",
      "source": [
        "### Instruções\n",
        "1. Salve sua cópia do Colab\n",
        "2. Use GPU\n",
        "3. Rode as célular individualmente.\n",
        "4. Atenção com espaços e caracteres especiais ao informar o nome do arquivo de vídeo/áudio (se preferir, renomeie-o)."
      ],
      "metadata": {
        "id": "571yGyJytvlT"
      }
    },
    {
      "cell_type": "code",
      "source": [
        "# Configurar o ambiente (rode esta célula somente antes da primeira transcrição)\n",
        "\n",
        "%%capture\n",
        "!pip install git+https://github.com/openai/whisper.git\n",
        "!sudo apt update && sudo apt install ffmpeg"
      ],
      "metadata": {
        "id": "VoxI2fcKqR9z"
      },
      "execution_count": 1,
      "outputs": []
    },
    {
      "cell_type": "code",
      "source": [
        "# Informe o nome do arquivo e pressione <Enter>\n",
        "# Se a audiência for muito grande, pegue um café... Não se esqueça de baixar o seu arquivo \"txt\" ao final.\n",
        "\n",
        "arquivo = input(\"Entre com o nome do arquivo de áudio/vídeo: \")\n",
        "print(\"Aguarde...\\n\")\n",
        "!whisper {arquivo} --model medium --task transcribe --language pt --output_format txt"
      ],
      "metadata": {
        "colab": {
          "base_uri": "https://localhost:8080/"
        },
        "id": "NMRFXgjtpxfK",
        "outputId": "e97c3400-c535-4edf-fb63-c09a8d70d263"
      },
      "execution_count": 2,
      "outputs": [
        {
          "output_type": "stream",
          "name": "stdout",
          "text": [
            "Entre com o nome do arquivo de áudio/vídeo: audiencia_109969919_1_V.asf\n",
            "Aguarde...\n",
            "\n",
            "[00:00.000 --> 00:03.000]  e E aí\n",
            "[00:03.000 --> 00:04.000]  E aí\n",
            "[00:04.000 --> 00:08.000]  E aí\n",
            "[00:08.000 --> 00:09.000]  E aí\n",
            "[00:09.000 --> 00:10.000]  E aí\n",
            "[00:10.000 --> 00:11.000]  E aí\n",
            "[00:11.000 --> 00:12.000]  E aí\n",
            "[00:12.000 --> 00:17.000]  Mas iniciar de\n",
            "[00:17.000 --> 00:21.000]  Bom estar em silêncio\n",
            "[00:21.000 --> 00:22.000]  E aí\n",
            "[00:22.000 --> 00:26.000]  O Alexander tem um nome social que é que chama de carros mesmo.\n",
            "[00:26.000 --> 00:40.080]  Britney. Britney? Ok. Você prefere que chame por seu nome social? Sim, senhor. Ok. Britney,\n",
            "[00:41.280 --> 00:48.440]  trata-se de audiência de custódia, nessa audiência não será interrogada, também não serão\n",
            "[00:48.440 --> 00:55.840]  todas as testemunhas, ou seja, você não será julgada. No caso aqui, nós recebemos,\n",
            "[00:55.840 --> 01:03.160]  tomamos conhecimento dos fatos, recebemos documentos da autoridade policial, e para saber também se\n",
            "[01:03.160 --> 01:08.280]  do momento da sua prisão até sua apresentação agora aqui, você sofreu alguma agressão,\n",
            "[01:08.280 --> 01:22.240]  foi uma ameaça de quem quer que seja? Sim, bem boa. A ameaça das polícias que fizeram a gente falar\n",
            "[01:22.240 --> 01:29.880]  coisas técnicas e a agressão psicológica foi muito forte, eles ameaçaram todo momento a gente de\n",
            "[01:29.880 --> 01:36.760]  de agredir, de agressão, de levar para o Matagal, de matar, foi essa a bola.\n",
            "[01:42.760 --> 01:51.440]  Doutor promotor? Sem perguntas, doutor. Doutor defensor? Sem perguntas, silêncio. Pois não.\n",
            "[01:51.920 --> 01:59.760]  Agora inverte, não é? Saia a Brittany e vem o Douglas, é isso, Diego?\n",
            "[01:59.760 --> 02:04.600]  Isso, eu vou interromper a gravação, que ele vai ter que voltar para a cela.\n",
            "[02:04.600 --> 02:09.560]  Brittany, preciso que você saia, porque o Douglas agora virá.\n"
          ]
        }
      ]
    }
  ]
}